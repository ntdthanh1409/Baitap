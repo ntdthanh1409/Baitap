{
  "nbformat": 4,
  "nbformat_minor": 0,
  "metadata": {
    "colab": {
      "name": "T-test.ipynb",
      "provenance": [],
      "authorship_tag": "ABX9TyN8kjeZiJ2T055/nk7bdmpH",
      "include_colab_link": true
    },
    "kernelspec": {
      "name": "python3",
      "display_name": "Python 3"
    },
    "language_info": {
      "name": "python"
    }
  },
  "cells": [
    {
      "cell_type": "markdown",
      "metadata": {
        "id": "view-in-github",
        "colab_type": "text"
      },
      "source": [
        "<a href=\"https://colab.research.google.com/github/ntdthanh1409/Baitap/blob/master/T_test.ipynb\" target=\"_parent\"><img src=\"https://colab.research.google.com/assets/colab-badge.svg\" alt=\"Open In Colab\"/></a>"
      ]
    },
    {
      "cell_type": "markdown",
      "metadata": {
        "id": "y6cmbfBIAPtf"
      },
      "source": [
        "\n",
        "HƯỚNG DẪN SUY DIỄN THỐNG KÊ BẰNG GÓI STATS CỦA THƯ VIỆN SCIPY\n",
        "\n",
        "Các thư viện cần thiết"
      ]
    },
    {
      "cell_type": "code",
      "metadata": {
        "id": "yCRJSwOZAJ-6"
      },
      "source": [
        "import numpy as np\n",
        "import pandas as pd\n",
        "import random\n",
        "from scipy import stats\n",
        "import warnings"
      ],
      "execution_count": 1,
      "outputs": []
    },
    {
      "cell_type": "markdown",
      "metadata": {
        "id": "2Flx-Q23AUDp"
      },
      "source": [
        "\n",
        "Tắt các cảnh báo của scipy"
      ]
    },
    {
      "cell_type": "code",
      "metadata": {
        "id": "z7XjzM7kAWX5"
      },
      "source": [
        "warnings.filterwarnings('ignore')"
      ],
      "execution_count": 2,
      "outputs": []
    },
    {
      "cell_type": "markdown",
      "metadata": {
        "id": "worAbRceAiD3"
      },
      "source": [
        "\n",
        "Các bước khi thực hiện kiểm định One-Sample T-Test bao gồm:\n",
        "\n",
        "Bước 1: Đặt giả thuyết Ho: “Giá trị trung bình của biến tổng thể = giá trị cho trước”\n",
        "\n",
        "Bước 2: Lọc ra các trường hợp thỏa mãn các điều kiện (nếu có) của nhóm đối tượng tham gia kiểm định.\n",
        "\n",
        "Bước 3: Thực hiện kiểm định One-Sample T-Test\n",
        "\n",
        "Bước 4: Tìm giá trị Sig tương ứng với giá trị T-Test t đã tính được.\n",
        "\n",
        "Bước 5: So sánh giá trị Sig với giá trị xác suất a\n",
        "\n",
        "Nếu Sig>a thì ta chấp nhận giả thuyết Ho\n",
        "\n",
        "Nếu Sig£a thì ta bác bỏ giả thuyết Ho\n",
        "\n",
        "Sinh các mẫu ngẫu nhiên lấy ra từ phân phối chuẩn bằng hàm random.normal() với các tham số:\n",
        "\n",
        "mean: giá trị trung bình của quần thể\n",
        "\n",
        "scale: độ lệch chuẩn của quần thể (không âm)\n",
        "\n",
        "size: kích thước mẫu"
      ]
    },
    {
      "cell_type": "code",
      "metadata": {
        "id": "osEQ_8twAij4"
      },
      "source": [
        "samples = np.random.normal(200, 15, 50)"
      ],
      "execution_count": 3,
      "outputs": []
    },
    {
      "cell_type": "markdown",
      "metadata": {
        "id": "mvgrqQMAAzgg"
      },
      "source": [
        "Kiểm định t 1 mẫu"
      ]
    },
    {
      "cell_type": "code",
      "metadata": {
        "colab": {
          "base_uri": "https://localhost:8080/"
        },
        "id": "hvEGNKtGAmUc",
        "outputId": "d1c45931-0937-4292-d4d5-7a8f5f0d045b"
      },
      "source": [
        "alpha = 0.05\n",
        "x = (stats.ttest_1samp(samples,100))\n",
        "print(stats.ttest_1samp(samples,100))\n",
        "if(x[1] <  alpha):\n",
        "  print(\"Có bằng chứng để bác bỏ giả thuyết H0\")\n",
        "else:\n",
        "  print(\"Chưa có bằng chứng để bác bỏ giả thuyết H0\")"
      ],
      "execution_count": 4,
      "outputs": [
        {
          "output_type": "stream",
          "text": [
            "Ttest_1sampResult(statistic=49.27197817356826, pvalue=2.0824750353063705e-43)\n",
            "Có bằng chứng để bác bỏ giả thuyết H0\n"
          ],
          "name": "stdout"
        }
      ]
    },
    {
      "cell_type": "markdown",
      "metadata": {
        "id": "TT_LLYEkA4hb"
      },
      "source": [
        "Kiểm định t 2 mẫu"
      ]
    },
    {
      "cell_type": "code",
      "metadata": {
        "colab": {
          "base_uri": "https://localhost:8080/"
        },
        "id": "5KspZDU3A657",
        "outputId": "5baf3ddb-b41c-4943-a6a1-0176fa01df96"
      },
      "source": [
        "samples_1 = np.random.normal(15, 6, 50)\n",
        "samples_2 = np.random.normal(19, 7, 60)\n",
        "\n",
        "t = stats.ttest_ind(samples_1,samples_2)\n",
        "print(t)\n",
        "if(t[1]<alpha):\n",
        "  print(\"Có bằng chứng để bác bỏ giả thuyết H0\")\n",
        "else:\n",
        "  print(\"Chưa có bằng chứng để bác bỏ giả thuyết H0\")"
      ],
      "execution_count": 5,
      "outputs": [
        {
          "output_type": "stream",
          "text": [
            "Ttest_indResult(statistic=-3.93096049229493, pvalue=0.00014967271062993196)\n",
            "Có bằng chứng để bác bỏ giả thuyết H0\n"
          ],
          "name": "stdout"
        }
      ]
    }
  ]
}