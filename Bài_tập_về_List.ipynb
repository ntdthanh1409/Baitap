{
  "nbformat": 4,
  "nbformat_minor": 0,
  "metadata": {
    "colab": {
      "name": "Bài tập về List.ipynb",
      "provenance": [],
      "authorship_tag": "ABX9TyMDma8pmWnm3+cEDY4d3myS",
      "include_colab_link": true
    },
    "kernelspec": {
      "name": "python3",
      "display_name": "Python 3"
    }
  },
  "cells": [
    {
      "cell_type": "markdown",
      "metadata": {
        "id": "view-in-github",
        "colab_type": "text"
      },
      "source": [
        "<a href=\"https://colab.research.google.com/github/ntdthanh1409/Baitap/blob/master/B%C3%A0i_t%E1%BA%ADp_v%E1%BB%81_List.ipynb\" target=\"_parent\"><img src=\"https://colab.research.google.com/assets/colab-badge.svg\" alt=\"Open In Colab\"/></a>"
      ]
    },
    {
      "cell_type": "code",
      "metadata": {
        "id": "ahy_dSkv1907",
        "outputId": "2d298da3-6200-48db-c416-065f116fce10",
        "colab": {
          "base_uri": "https://localhost:8080/"
        }
      },
      "source": [
        "x = []\n",
        "x.append(18)\n",
        "x.append(\"Huế\")\n",
        "y = [12, 45, -1, -0.56, \"abc\"]\n",
        "x.extend(y)\n",
        "print(x)\n",
        "print(\"Giá trị của phần tử cuối cùng và phần tử đầu tiên của x:\", x[-1],x[0])\n",
        "print(\"Giá trị của phần tử đầu tiên đến phần tử thứ 5 của x:\",x[0:5])\n",
        "print(\"Giá trị của phần từ thứ 3 đến cuối cùng của x:\",x[2:])"
      ],
      "execution_count": 28,
      "outputs": [
        {
          "output_type": "stream",
          "text": [
            "[18, 'Huế', 12, 45, -1, -0.56, 'abc']\n",
            "Giá trị của phần tử cuối cùng và phần tử đầu tiên của x: abc 18\n",
            "Giá trị của phần tử đầu tiên đến phần tử thứ 5 của x: [18, 'Huế', 12, 45, -1]\n",
            "Giá trị của phần từ thứ 3 đến cuối cùng của x: [12, 45, -1, -0.56, 'abc']\n"
          ],
          "name": "stdout"
        }
      ]
    }
  ]
}