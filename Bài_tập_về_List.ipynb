{
  "nbformat": 4,
  "nbformat_minor": 0,
  "metadata": {
    "colab": {
      "name": "Bài tập về List.ipynb",
      "provenance": [],
      "authorship_tag": "ABX9TyMl0dgRXGN3MxPJWmq9vlWa",
      "include_colab_link": true
    },
    "kernelspec": {
      "name": "python3",
      "display_name": "Python 3"
    }
  },
  "cells": [
    {
      "cell_type": "markdown",
      "metadata": {
        "id": "view-in-github",
        "colab_type": "text"
      },
      "source": [
        "<a href=\"https://colab.research.google.com/github/ntdthanh1409/Baitap/blob/master/B%C3%A0i_t%E1%BA%ADp_v%E1%BB%81_List.ipynb\" target=\"_parent\"><img src=\"https://colab.research.google.com/assets/colab-badge.svg\" alt=\"Open In Colab\"/></a>"
      ]
    },
    {
      "cell_type": "code",
      "metadata": {
        "id": "O4P5SgXK7jke",
        "outputId": "9fdcaa2a-6b04-4751-cb9f-06639c6ed36f",
        "colab": {
          "base_uri": "https://localhost:8080/"
        }
      },
      "source": [
        "x = []\n",
        "x.append(18)\n",
        "x.append(\"Huế\")\n",
        "y = [12, 45, -1, -0.56, \"abc\"]\n",
        "x.extend(y)\n",
        "print(x)\n",
        "print(\"Giá trị của phần tử cuối cùng và phần tử đầu tiên của x:\", x[-1],\",\",x[0])\n",
        "print(\"Giá trị của phần tử đầu tiên đến phần tử thứ 5 của x:\",x[0:5])\n",
        "print(\"Giá trị của phần từ thứ 3 đến cuối cùng của x:\",x[2:])"
      ],
      "execution_count": 4,
      "outputs": [
        {
          "output_type": "stream",
          "text": [
            "[18, 'Huế', 12, 45, -1, -0.56, 'abc']\n",
            "Giá trị của phần tử cuối cùng và phần tử đầu tiên của x: abc , 18\n",
            "Giá trị của phần tử đầu tiên đến phần tử thứ 5 của x: [18, 'Huế', 12, 45, -1]\n",
            "Giá trị của phần từ thứ 3 đến cuối cùng của x: [12, 45, -1, -0.56, 'abc']\n"
          ],
          "name": "stdout"
        }
      ]
    }
  ]
}