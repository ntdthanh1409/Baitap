{
  "nbformat": 4,
  "nbformat_minor": 0,
  "metadata": {
    "colab": {
      "name": "Bài tập chương 2.ipynb",
      "provenance": [],
      "collapsed_sections": [],
      "authorship_tag": "ABX9TyPF3jI6Mkui3M26x5b1em4D",
      "include_colab_link": true
    },
    "kernelspec": {
      "name": "python3",
      "display_name": "Python 3"
    }
  },
  "cells": [
    {
      "cell_type": "markdown",
      "metadata": {
        "id": "view-in-github",
        "colab_type": "text"
      },
      "source": [
        "<a href=\"https://colab.research.google.com/github/ntdthanh1409/Baitap/blob/master/B%C3%A0i_t%E1%BA%ADp_ch%C6%B0%C6%A1ng_2.ipynb\" target=\"_parent\"><img src=\"https://colab.research.google.com/assets/colab-badge.svg\" alt=\"Open In Colab\"/></a>"
      ]
    },
    {
      "cell_type": "markdown",
      "metadata": {
        "id": "QKve7IItUUpR"
      },
      "source": [
        "Bài 1: Lập trình nhập vào từ bàn phím 2 số nguyên và tính:"
      ]
    },
    {
      "cell_type": "code",
      "metadata": {
        "id": "yH1nOQMlUR3i",
        "outputId": "ad3adb0c-701d-4c9e-f098-e3b689f53682",
        "colab": {
          "base_uri": "https://localhost:8080/",
          "height": 67
        }
      },
      "source": [
        "#Tổng của hai số\n",
        "a=int(input(\"a= \"))\n",
        "b=int(input(\"b= \"))\n",
        "print(\"a + b = \",a+b)"
      ],
      "execution_count": null,
      "outputs": [
        {
          "output_type": "stream",
          "text": [
            "a= 10\n",
            "b= 20\n",
            "a + b =  30\n"
          ],
          "name": "stdout"
        }
      ]
    },
    {
      "cell_type": "code",
      "metadata": {
        "id": "dM-0HIS1UtvX",
        "outputId": "8ce55764-efc6-4c95-dfad-2a7341e97652",
        "colab": {
          "base_uri": "https://localhost:8080/",
          "height": 67
        }
      },
      "source": [
        "#Tích của hai số\n",
        "a=int(input(\"a= \"))\n",
        "b=int(input(\"b= \"))\n",
        "print(\"a * b = \",a*b)"
      ],
      "execution_count": null,
      "outputs": [
        {
          "output_type": "stream",
          "text": [
            "a= 10\n",
            "b= 20\n",
            "a * b =  200\n"
          ],
          "name": "stdout"
        }
      ]
    },
    {
      "cell_type": "code",
      "metadata": {
        "id": "stdyhZRXU3a_",
        "outputId": "31d129da-d0d0-4f7e-ae69-be65cdcafb8c",
        "colab": {
          "base_uri": "https://localhost:8080/",
          "height": 67
        }
      },
      "source": [
        "#Hiệu của hai số\n",
        "a=int(input(\"a= \"))\n",
        "b=int(input(\"b= \"))\n",
        "print(\"a - b = \",a-b)"
      ],
      "execution_count": null,
      "outputs": [
        {
          "output_type": "stream",
          "text": [
            "a= 50\n",
            "b= 40\n",
            "a - b =  10\n"
          ],
          "name": "stdout"
        }
      ]
    },
    {
      "cell_type": "code",
      "metadata": {
        "id": "jhlp4sFcVEWV",
        "outputId": "846cb9e0-0cc6-4dd0-b9f5-2d845aad3257",
        "colab": {
          "base_uri": "https://localhost:8080/",
          "height": 67
        }
      },
      "source": [
        "#Chia lấy phần dư của hai số\n",
        "a=int(input(\"a= \"))\n",
        "b=int(input(\"b= \"))\n",
        "print(\"a % b = \",a%b)"
      ],
      "execution_count": null,
      "outputs": [
        {
          "output_type": "stream",
          "text": [
            "a= 10\n",
            "b= 3\n",
            "a % b =  1\n"
          ],
          "name": "stdout"
        }
      ]
    },
    {
      "cell_type": "code",
      "metadata": {
        "id": "NBa1fFfOVSaF",
        "outputId": "5f917c19-1dd0-4886-daab-c151c3abb6bb",
        "colab": {
          "base_uri": "https://localhost:8080/",
          "height": 67
        }
      },
      "source": [
        "#Chia lấy phần nguyên của hai số\n",
        "a=int(input(\"a= \"))\n",
        "b=int(input(\"b= \"))\n",
        "print(\"a // b = \",a//b)"
      ],
      "execution_count": null,
      "outputs": [
        {
          "output_type": "stream",
          "text": [
            "a= 10\n",
            "b= 3\n",
            "a // b =  3\n"
          ],
          "name": "stdout"
        }
      ]
    },
    {
      "cell_type": "markdown",
      "metadata": {
        "id": "Uxb3HMeHWAx7"
      },
      "source": [
        "Bài 2: Lập trình nhập vào từ bàn phím 2 số thực và tính:"
      ]
    },
    {
      "cell_type": "code",
      "metadata": {
        "id": "mWEyqpfHWCue",
        "outputId": "4697bf37-4706-406d-d569-e0d1fb8ce7be",
        "colab": {
          "base_uri": "https://localhost:8080/",
          "height": 67
        }
      },
      "source": [
        "#Tổng của hai số\n",
        "a=float(input(\"a= \"))\n",
        "b=float(input(\"b= \"))\n",
        "print(\"a + b = \",a+b)"
      ],
      "execution_count": null,
      "outputs": [
        {
          "output_type": "stream",
          "text": [
            "a= 3.5\n",
            "b= 3.6\n",
            "a + b =  7.1\n"
          ],
          "name": "stdout"
        }
      ]
    },
    {
      "cell_type": "code",
      "metadata": {
        "id": "WU955DgRWObt",
        "outputId": "8fe0fee4-5c08-42e9-d885-38f7a47fa02d",
        "colab": {
          "base_uri": "https://localhost:8080/",
          "height": 67
        }
      },
      "source": [
        "#Tích của hai số\n",
        "a=float(input(\"a= \"))\n",
        "b=float(input(\"b= \"))\n",
        "print(\"a * b = \",a*b)"
      ],
      "execution_count": null,
      "outputs": [
        {
          "output_type": "stream",
          "text": [
            "a= 5.6\n",
            "b= 4.4\n",
            "a * b =  24.64\n"
          ],
          "name": "stdout"
        }
      ]
    },
    {
      "cell_type": "code",
      "metadata": {
        "id": "7Tdr_Nf3WeB7",
        "outputId": "757c7f9a-4579-4fdd-82df-167cb31110e9",
        "colab": {
          "base_uri": "https://localhost:8080/",
          "height": 67
        }
      },
      "source": [
        "#Hiệucủa hai số\n",
        "a=float(input(\"a= \"))\n",
        "b=float(input(\"b= \"))\n",
        "print(\"a - b = \",a-b)"
      ],
      "execution_count": null,
      "outputs": [
        {
          "output_type": "stream",
          "text": [
            "a= 11.6\n",
            "b= 2.5\n",
            "a - b =  9.1\n"
          ],
          "name": "stdout"
        }
      ]
    },
    {
      "cell_type": "code",
      "metadata": {
        "id": "2hXwXrmPWxYW",
        "outputId": "c00877b6-2250-471c-8c2e-0a77c62d8cf8",
        "colab": {
          "base_uri": "https://localhost:8080/",
          "height": 67
        }
      },
      "source": [
        "#Tích của hai số\n",
        "a=float(input(\"a= \"))\n",
        "b=float(input(\"b= \"))\n",
        "print(\"a * b = \",a*b)"
      ],
      "execution_count": null,
      "outputs": [
        {
          "output_type": "stream",
          "text": [
            "a= 11.2\n",
            "b= 45.3\n",
            "a * b =  507.35999999999996\n"
          ],
          "name": "stdout"
        }
      ]
    },
    {
      "cell_type": "code",
      "metadata": {
        "id": "ygAer-V2W8m_",
        "outputId": "e7b3524e-8b9f-4130-ec09-af7f7a59ebca",
        "colab": {
          "base_uri": "https://localhost:8080/",
          "height": 67
        }
      },
      "source": [
        "#Thương của hai số\n",
        "a=float(input(\"a= \"))\n",
        "b=float(input(\"b= \"))\n",
        "print(\"a / b = \",a/b)"
      ],
      "execution_count": null,
      "outputs": [
        {
          "output_type": "stream",
          "text": [
            "a= 233525.5235\n",
            "b= 7878.24\n",
            "a / b =  29.641839230589575\n"
          ],
          "name": "stdout"
        }
      ]
    },
    {
      "cell_type": "markdown",
      "metadata": {
        "id": "GwjtqmXTX7zx"
      },
      "source": [
        "Bài 3: (Sử dụng các hàm toán học) Nhập một số từ bàn phím và tính:"
      ]
    },
    {
      "cell_type": "code",
      "metadata": {
        "id": "IfnYm4DSX92n",
        "outputId": "7cc92a38-666b-4e19-c5ef-61fc3214dafb",
        "colab": {
          "base_uri": "https://localhost:8080/",
          "height": 50
        }
      },
      "source": [
        "#Trị tuyệt đối\n",
        "a=int(input(\"a=\"))\n",
        "print(\"Trị tuyệt đối của a là\",str(abs(a)))"
      ],
      "execution_count": null,
      "outputs": [
        {
          "output_type": "stream",
          "text": [
            "a=-10\n",
            "Trị tuyệt đối của a là 10\n"
          ],
          "name": "stdout"
        }
      ]
    },
    {
      "cell_type": "code",
      "metadata": {
        "id": "5KOMsvYgZEaH",
        "outputId": "28c1d590-346b-400b-fcd5-32359d469385",
        "colab": {
          "base_uri": "https://localhost:8080/",
          "height": 50
        }
      },
      "source": [
        "#Lấy phần nguyên của số\n",
        "a=float(input(\"a=\"))\n",
        "print(\"Phần nguyên của \" + str(a) +\" là \" +str(int(a)))\n"
      ],
      "execution_count": null,
      "outputs": [
        {
          "output_type": "stream",
          "text": [
            "a=1244.124\n",
            "Phần nguyên của 1244.124 là 1244\n"
          ],
          "name": "stdout"
        }
      ]
    },
    {
      "cell_type": "code",
      "metadata": {
        "id": "mDkzShgSaAK3",
        "outputId": "0ae61bce-2c18-4d8e-afd4-15780f08103d",
        "colab": {
          "base_uri": "https://localhost:8080/",
          "height": 50
        }
      },
      "source": [
        "#Chuyển đổi thành số thực\n",
        "a=int(input(\"a=\"))\n",
        "print(\"Phần nguyên của \" + str(a) +\" là \" +str(float(a)))"
      ],
      "execution_count": null,
      "outputs": [
        {
          "output_type": "stream",
          "text": [
            "a=1111\n",
            "Phần nguyên của 1111 là 1111.0\n"
          ],
          "name": "stdout"
        }
      ]
    },
    {
      "cell_type": "code",
      "metadata": {
        "id": "fL6Za0RQaWmY",
        "outputId": "7515f011-6721-4c40-98c7-cfe6c31ab0eb",
        "colab": {
          "base_uri": "https://localhost:8080/",
          "height": 67
        }
      },
      "source": [
        "#(nhập thêm 1 số từ bàn phím) và tính lũy thừa  x^y\n",
        "x=int(input(\"x=\"))\n",
        "y=int(input(\"y=\"))\n",
        "print(\"Lũy thừa của x^y là\",str(x**y))"
      ],
      "execution_count": null,
      "outputs": [
        {
          "output_type": "stream",
          "text": [
            "x=3\n",
            "y=7\n",
            "Lũy thừa của x^y là 2187\n"
          ],
          "name": "stdout"
        }
      ]
    },
    {
      "cell_type": "code",
      "metadata": {
        "id": "WAVUD5qMbIDo",
        "outputId": "96517dc2-f30b-4573-f03c-5e39203ecebf",
        "colab": {
          "base_uri": "https://localhost:8080/",
          "height": 50
        }
      },
      "source": [
        "#Tính căn bậc hai\n",
        "a=int(input(\"a=\"))\n",
        "print(\"Căn bậc hai của \" + str(a) + \" bằng \" + str(math.sqrt(a)))"
      ],
      "execution_count": null,
      "outputs": [
        {
          "output_type": "stream",
          "text": [
            "a=16\n",
            "Căn bậc hai của 16 bằng 4.0\n"
          ],
          "name": "stdout"
        }
      ]
    },
    {
      "cell_type": "markdown",
      "metadata": {
        "id": "PuyeMemdeWww"
      },
      "source": [
        "Bài 4: Nhập 2 số từ bàn phím và thực hiện các phép so sánh sau giữa 2 số:"
      ]
    },
    {
      "cell_type": "code",
      "metadata": {
        "id": "Fd8ds1FjeXzl",
        "outputId": "995cbf2a-74c2-422e-fca3-7a04fd7abbde",
        "colab": {
          "base_uri": "https://localhost:8080/",
          "height": 67
        }
      },
      "source": [
        "#>=\n",
        "a=int(input(\"a= \"))\n",
        "b=int(input(\"b= \"))\n",
        "print(\" a >= b is\",a>=b)"
      ],
      "execution_count": null,
      "outputs": [
        {
          "output_type": "stream",
          "text": [
            "a= 345\n",
            "b= 36\n",
            " a >= b is True\n"
          ],
          "name": "stdout"
        }
      ]
    },
    {
      "cell_type": "code",
      "metadata": {
        "id": "PdUwMaBefHDQ",
        "outputId": "0d0f8df2-3e30-42fc-8316-2bd8bffc3456",
        "colab": {
          "base_uri": "https://localhost:8080/",
          "height": 67
        }
      },
      "source": [
        "#<=\n",
        "a=int(input(\"a= \"))\n",
        "b=int(input(\"b= \"))\n",
        "print(\"a <= b is\",a<=b) "
      ],
      "execution_count": null,
      "outputs": [
        {
          "output_type": "stream",
          "text": [
            "a= 44\n",
            "b= 44\n",
            "a <= b is True\n"
          ],
          "name": "stdout"
        }
      ]
    },
    {
      "cell_type": "code",
      "metadata": {
        "id": "-d_glbqwfdhF",
        "outputId": "fc21eb11-db0b-48e4-b905-d93ecea26447",
        "colab": {
          "base_uri": "https://localhost:8080/",
          "height": 67
        }
      },
      "source": [
        "#>\n",
        "a=int(input(\"a= \"))\n",
        "b=int(input(\"b= \"))\n",
        "print(\"a > b is\",a>b)"
      ],
      "execution_count": null,
      "outputs": [
        {
          "output_type": "stream",
          "text": [
            "a= 24\n",
            "b= 25\n",
            "a > b is False\n"
          ],
          "name": "stdout"
        }
      ]
    },
    {
      "cell_type": "code",
      "metadata": {
        "id": "NwKNTv0sf8sW",
        "outputId": "bd3d2d70-3031-46ea-ccb2-9111e929a0f8",
        "colab": {
          "base_uri": "https://localhost:8080/",
          "height": 67
        }
      },
      "source": [
        "#≠\n",
        "a=int(input(\"a= \"))\n",
        "b=int(input(\"b= \"))\n",
        "print(\"a ≠ b is\",a!=b)\n"
      ],
      "execution_count": null,
      "outputs": [
        {
          "output_type": "stream",
          "text": [
            "a= 10\n",
            "b= 10\n",
            "a ≠ b is False\n"
          ],
          "name": "stdout"
        }
      ]
    },
    {
      "cell_type": "markdown",
      "metadata": {
        "id": "kCAxP5ePgPN4"
      },
      "source": [
        "Bài 5: Nhập 1 chuỗi ký tự từ bàn phím:"
      ]
    },
    {
      "cell_type": "code",
      "metadata": {
        "id": "49J82Uv2gR6v",
        "outputId": "3dae751f-d7fe-4dbd-b44f-3cf627baf364",
        "colab": {
          "base_uri": "https://localhost:8080/",
          "height": 50
        }
      },
      "source": [
        "#Chuyển thành chuỗi in hoa\n",
        "name=input(\"tên thường của bạn là:\")\n",
        "print(\"tên bạn sau khi in hoa là:\",name.upper())"
      ],
      "execution_count": 5,
      "outputs": [
        {
          "output_type": "stream",
          "text": [
            "tên thường của bạn là:Thành\n",
            "tên bạn sau khi in hoa là: THÀNH\n"
          ],
          "name": "stdout"
        }
      ]
    },
    {
      "cell_type": "code",
      "metadata": {
        "id": "0y6lSnhwifZs",
        "outputId": "f1d5599a-b4be-421e-b8e9-a241bc16120f",
        "colab": {
          "base_uri": "https://localhost:8080/",
          "height": 50
        }
      },
      "source": [
        "#Chuyển thành chuỗi in thường\n",
        "name=input(\"tên in hoa của bạn là:\")\n",
        "print(\"tên bạn sau khi in thường là:\",name.lower())"
      ],
      "execution_count": 9,
      "outputs": [
        {
          "output_type": "stream",
          "text": [
            "tên in hoa của bạn là:THÀNH\n",
            "tên bạn sau khi in thường là: thành\n"
          ],
          "name": "stdout"
        }
      ]
    },
    {
      "cell_type": "markdown",
      "metadata": {
        "id": "12VlgJStxTVa"
      },
      "source": [
        "\n",
        "Bài 6: Xuất ra màn hình 1 chuỗi ký từ nằm trên nhiều hàng (có thể là 1 bài thơ tùy ý bạn lựa chọn)"
      ]
    },
    {
      "cell_type": "code",
      "metadata": {
        "id": "vQ3fPMRBxQh2",
        "outputId": "7f96cc26-f2ae-4496-f7fc-4fdd00b1ac02",
        "colab": {
          "base_uri": "https://localhost:8080/",
          "height": 151
        }
      },
      "source": [
        "print(''' I am the bone of my sword\n",
        " Steel is my body and fire is my blood\n",
        " I have created over a thousand blades\n",
        " Unknown to Death,\n",
        " Nor known to Life.\n",
        " Have withstood pain to create many weapons\n",
        " Yet, those hands will never hold anything\n",
        " So as I pray, unlimited blade works.''')"
      ],
      "execution_count": 1,
      "outputs": [
        {
          "output_type": "stream",
          "text": [
            " I am the bone of my sword\n",
            " Steel is my body and fire is my blood\n",
            " I have created over a thousand blades\n",
            " Unknown to Death,\n",
            " Nor known to Life.\n",
            " Have withstood pain to create many weapons\n",
            " Yet, those hands will never hold anything\n",
            " So as I pray, unlimited blade works.\n"
          ],
          "name": "stdout"
        }
      ]
    }
  ]
}